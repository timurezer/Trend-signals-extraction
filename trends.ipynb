{
 "cells": [
  {
   "cell_type": "code",
   "execution_count": 166,
   "metadata": {
    "collapsed": true
   },
   "outputs": [],
   "source": [
    "import numpy as np\n",
    "import pandas as pd\n",
    "from nltk.corpus import stopwords\n",
    "from nltk.tokenize import RegexpTokenizer\n",
    "from nltk.stem import WordNetLemmatizer"
   ]
  },
  {
   "cell_type": "markdown",
   "source": [
    "Чтобы ответить на вопрос, какие слова, фразы используются наиболее часто за последние 6 месяцев, выгрузим из базы данных StackOverflow Query набор комментариев, написанный за требуемый промежуток времени. Проблема заключается в том, что под заданное требование подходит более 2,5 млн записей. Поэтому возьмем не весь набор, а только часть. Чтобы это можно было обработать на домашнем компьютере, я взял всего лишь 1% от всех данных (26к комментариев).\n",
    "\n",
    "Соответствующий запрос в базу данных:\n",
    "\n",
    "select CreationDate, Text from Comments tablesample(1 percent)\n",
    "where CreationDate >= DATEADD(month, -6, GETDATE())\n",
    "\n",
    "Считаем данные и посмотрим немного на них.\n"
   ],
   "metadata": {
    "collapsed": false
   }
  },
  {
   "cell_type": "code",
   "execution_count": 167,
   "outputs": [
    {
     "data": {
      "text/plain": "              CreationDate                                               Text\n0      2021-09-16 15:32:22  Welcome to Stack Overflow! In order to get the...\n1      2021-09-16 15:32:23  Ok so how can I change the format? The dates a...\n2      2021-09-16 15:32:28               Try now mate, pls , i updated answer\n3      2021-09-16 15:32:38  I'm guessing that the HTMLness bit is set if t...\n4      2021-09-16 15:32:42                 Thanks for the clarification, John\n...                    ...                                                ...\n26523  2022-03-13 03:23:46  In your repo, this `func compositionLayerInstr...\n26524  2022-03-13 03:23:50  @QueenoftheNorth The two parameters are indica...\n26525  2022-03-13 03:24:13  The code is buggy. I tried `build_path(\"http:/...\n26526  2022-03-13 03:24:18  What about start thinking with the following t...\n26527  2022-03-13 03:24:30  please restrict yourself to one question at a ...\n\n[26528 rows x 2 columns]",
      "text/html": "<div>\n<style scoped>\n    .dataframe tbody tr th:only-of-type {\n        vertical-align: middle;\n    }\n\n    .dataframe tbody tr th {\n        vertical-align: top;\n    }\n\n    .dataframe thead th {\n        text-align: right;\n    }\n</style>\n<table border=\"1\" class=\"dataframe\">\n  <thead>\n    <tr style=\"text-align: right;\">\n      <th></th>\n      <th>CreationDate</th>\n      <th>Text</th>\n    </tr>\n  </thead>\n  <tbody>\n    <tr>\n      <th>0</th>\n      <td>2021-09-16 15:32:22</td>\n      <td>Welcome to Stack Overflow! In order to get the...</td>\n    </tr>\n    <tr>\n      <th>1</th>\n      <td>2021-09-16 15:32:23</td>\n      <td>Ok so how can I change the format? The dates a...</td>\n    </tr>\n    <tr>\n      <th>2</th>\n      <td>2021-09-16 15:32:28</td>\n      <td>Try now mate, pls , i updated answer</td>\n    </tr>\n    <tr>\n      <th>3</th>\n      <td>2021-09-16 15:32:38</td>\n      <td>I'm guessing that the HTMLness bit is set if t...</td>\n    </tr>\n    <tr>\n      <th>4</th>\n      <td>2021-09-16 15:32:42</td>\n      <td>Thanks for the clarification, John</td>\n    </tr>\n    <tr>\n      <th>...</th>\n      <td>...</td>\n      <td>...</td>\n    </tr>\n    <tr>\n      <th>26523</th>\n      <td>2022-03-13 03:23:46</td>\n      <td>In your repo, this `func compositionLayerInstr...</td>\n    </tr>\n    <tr>\n      <th>26524</th>\n      <td>2022-03-13 03:23:50</td>\n      <td>@QueenoftheNorth The two parameters are indica...</td>\n    </tr>\n    <tr>\n      <th>26525</th>\n      <td>2022-03-13 03:24:13</td>\n      <td>The code is buggy. I tried `build_path(\"http:/...</td>\n    </tr>\n    <tr>\n      <th>26526</th>\n      <td>2022-03-13 03:24:18</td>\n      <td>What about start thinking with the following t...</td>\n    </tr>\n    <tr>\n      <th>26527</th>\n      <td>2022-03-13 03:24:30</td>\n      <td>please restrict yourself to one question at a ...</td>\n    </tr>\n  </tbody>\n</table>\n<p>26528 rows × 2 columns</p>\n</div>"
     },
     "execution_count": 167,
     "metadata": {},
     "output_type": "execute_result"
    }
   ],
   "source": [
    "data = pd.read_csv('QueryResults.csv')\n",
    "data"
   ],
   "metadata": {
    "collapsed": false,
    "pycharm": {
     "name": "#%%\n"
    }
   }
  },
  {
   "cell_type": "code",
   "execution_count": 168,
   "outputs": [
    {
     "data": {
      "text/plain": "CreationDate    object\nText            object\ndtype: object"
     },
     "execution_count": 168,
     "metadata": {},
     "output_type": "execute_result"
    }
   ],
   "source": [
    "data.dtypes"
   ],
   "metadata": {
    "collapsed": false,
    "pycharm": {
     "name": "#%%\n"
    }
   }
  },
  {
   "cell_type": "code",
   "execution_count": 169,
   "outputs": [
    {
     "data": {
      "text/plain": "Index(['CreationDate', 'Text'], dtype='object')"
     },
     "execution_count": 169,
     "metadata": {},
     "output_type": "execute_result"
    }
   ],
   "source": [
    "data.columns"
   ],
   "metadata": {
    "collapsed": false,
    "pycharm": {
     "name": "#%%\n"
    }
   }
  },
  {
   "cell_type": "code",
   "execution_count": 170,
   "outputs": [
    {
     "name": "stdout",
     "output_type": "stream",
     "text": [
      "(26528, 2)\n",
      "CreationDate                24057\n",
      "Text                        26078\n"
     ]
    }
   ],
   "source": [
    "print(data.shape)\n",
    "for feature in data.columns:\n",
    "    print(feature.ljust(27), data[feature].nunique())"
   ],
   "metadata": {
    "collapsed": false,
    "pycharm": {
     "name": "#%%\n"
    }
   }
  },
  {
   "cell_type": "markdown",
   "source": [
    "Похоже есть повторяющиеся комментарии :)"
   ],
   "metadata": {
    "collapsed": false
   }
  },
  {
   "cell_type": "code",
   "execution_count": 171,
   "outputs": [
    {
     "data": {
      "text/plain": "Empty DataFrame\nColumns: [CreationDate, Text]\nIndex: []",
      "text/html": "<div>\n<style scoped>\n    .dataframe tbody tr th:only-of-type {\n        vertical-align: middle;\n    }\n\n    .dataframe tbody tr th {\n        vertical-align: top;\n    }\n\n    .dataframe thead th {\n        text-align: right;\n    }\n</style>\n<table border=\"1\" class=\"dataframe\">\n  <thead>\n    <tr style=\"text-align: right;\">\n      <th></th>\n      <th>CreationDate</th>\n      <th>Text</th>\n    </tr>\n  </thead>\n  <tbody>\n  </tbody>\n</table>\n</div>"
     },
     "execution_count": 171,
     "metadata": {},
     "output_type": "execute_result"
    }
   ],
   "source": [
    "data[data.isnull().any(axis=1)]"
   ],
   "metadata": {
    "collapsed": false,
    "pycharm": {
     "name": "#%%\n"
    }
   }
  },
  {
   "cell_type": "code",
   "execution_count": 172,
   "outputs": [],
   "source": [
    "X = data.to_numpy()[:, 1]"
   ],
   "metadata": {
    "collapsed": false,
    "pycharm": {
     "name": "#%%\n"
    }
   }
  },
  {
   "cell_type": "markdown",
   "source": [
    "Наивных подход. Пройдемся по всем сообщениям и посмотрим число вхождений всех уникальных слов. Для этого уберем все стоп-слова, переведем все в нижний регистр и уберем все знаки препинания."
   ],
   "metadata": {
    "collapsed": false
   }
  },
  {
   "cell_type": "code",
   "execution_count": 173,
   "outputs": [],
   "source": [
    "def trend_words(X, d_size = 100):\n",
    "    d = {}\n",
    "    stop_words = set(stopwords.words('english'))\n",
    "    tokenizer = RegexpTokenizer(r'\\w+')    # оставляет только слова, без знаков припинания\n",
    "    #stemmer = WordNetLemmatizer()    # приводит слова к нормальной форме\n",
    "    for line in X:\n",
    "        s = [w for w in tokenizer.tokenize(line.lower()) if w not in stop_words]\n",
    "        for word in s:\n",
    "            if word in d:\n",
    "                d[word] += 1\n",
    "            else:\n",
    "                d[word] = 1\n",
    "    word_freq_list = sorted(d.items(), key=lambda x: x[1], reverse=True)\n",
    "    return pd.DataFrame(word_freq_list[:d_size]).rename(columns={0: 'words', 1: 'freq'})\n"
   ],
   "metadata": {
    "collapsed": false,
    "pycharm": {
     "name": "#%%\n"
    }
   }
  },
  {
   "cell_type": "markdown",
   "source": [
    "Посмотрим на самые частые слова"
   ],
   "metadata": {
    "collapsed": false
   }
  },
  {
   "cell_type": "code",
   "execution_count": 174,
   "outputs": [
    {
     "data": {
      "text/plain": "            words  freq\n0           https  3820\n1            code  3438\n2             use  3116\n3             com  3004\n4          answer  2753\n5        question  2559\n6           using  2230\n7            need  2165\n8            like  2106\n9          thanks  2095\n10          would  2077\n11              1  1879\n12         please  1836\n13           data  1764\n14            get  1763\n15            one  1742\n16           want  1723\n17           also  1723\n18        problem  1696\n19          error  1684\n20            see  1628\n21           help  1602\n22           work  1552\n23           file  1537\n24          thank  1501\n25  stackoverflow  1492\n26              0  1487\n27          could  1434\n28            try  1285\n29            add  1283",
      "text/html": "<div>\n<style scoped>\n    .dataframe tbody tr th:only-of-type {\n        vertical-align: middle;\n    }\n\n    .dataframe tbody tr th {\n        vertical-align: top;\n    }\n\n    .dataframe thead th {\n        text-align: right;\n    }\n</style>\n<table border=\"1\" class=\"dataframe\">\n  <thead>\n    <tr style=\"text-align: right;\">\n      <th></th>\n      <th>words</th>\n      <th>freq</th>\n    </tr>\n  </thead>\n  <tbody>\n    <tr>\n      <th>0</th>\n      <td>https</td>\n      <td>3820</td>\n    </tr>\n    <tr>\n      <th>1</th>\n      <td>code</td>\n      <td>3438</td>\n    </tr>\n    <tr>\n      <th>2</th>\n      <td>use</td>\n      <td>3116</td>\n    </tr>\n    <tr>\n      <th>3</th>\n      <td>com</td>\n      <td>3004</td>\n    </tr>\n    <tr>\n      <th>4</th>\n      <td>answer</td>\n      <td>2753</td>\n    </tr>\n    <tr>\n      <th>5</th>\n      <td>question</td>\n      <td>2559</td>\n    </tr>\n    <tr>\n      <th>6</th>\n      <td>using</td>\n      <td>2230</td>\n    </tr>\n    <tr>\n      <th>7</th>\n      <td>need</td>\n      <td>2165</td>\n    </tr>\n    <tr>\n      <th>8</th>\n      <td>like</td>\n      <td>2106</td>\n    </tr>\n    <tr>\n      <th>9</th>\n      <td>thanks</td>\n      <td>2095</td>\n    </tr>\n    <tr>\n      <th>10</th>\n      <td>would</td>\n      <td>2077</td>\n    </tr>\n    <tr>\n      <th>11</th>\n      <td>1</td>\n      <td>1879</td>\n    </tr>\n    <tr>\n      <th>12</th>\n      <td>please</td>\n      <td>1836</td>\n    </tr>\n    <tr>\n      <th>13</th>\n      <td>data</td>\n      <td>1764</td>\n    </tr>\n    <tr>\n      <th>14</th>\n      <td>get</td>\n      <td>1763</td>\n    </tr>\n    <tr>\n      <th>15</th>\n      <td>one</td>\n      <td>1742</td>\n    </tr>\n    <tr>\n      <th>16</th>\n      <td>want</td>\n      <td>1723</td>\n    </tr>\n    <tr>\n      <th>17</th>\n      <td>also</td>\n      <td>1723</td>\n    </tr>\n    <tr>\n      <th>18</th>\n      <td>problem</td>\n      <td>1696</td>\n    </tr>\n    <tr>\n      <th>19</th>\n      <td>error</td>\n      <td>1684</td>\n    </tr>\n    <tr>\n      <th>20</th>\n      <td>see</td>\n      <td>1628</td>\n    </tr>\n    <tr>\n      <th>21</th>\n      <td>help</td>\n      <td>1602</td>\n    </tr>\n    <tr>\n      <th>22</th>\n      <td>work</td>\n      <td>1552</td>\n    </tr>\n    <tr>\n      <th>23</th>\n      <td>file</td>\n      <td>1537</td>\n    </tr>\n    <tr>\n      <th>24</th>\n      <td>thank</td>\n      <td>1501</td>\n    </tr>\n    <tr>\n      <th>25</th>\n      <td>stackoverflow</td>\n      <td>1492</td>\n    </tr>\n    <tr>\n      <th>26</th>\n      <td>0</td>\n      <td>1487</td>\n    </tr>\n    <tr>\n      <th>27</th>\n      <td>could</td>\n      <td>1434</td>\n    </tr>\n    <tr>\n      <th>28</th>\n      <td>try</td>\n      <td>1285</td>\n    </tr>\n    <tr>\n      <th>29</th>\n      <td>add</td>\n      <td>1283</td>\n    </tr>\n  </tbody>\n</table>\n</div>"
     },
     "execution_count": 174,
     "metadata": {},
     "output_type": "execute_result"
    }
   ],
   "source": [
    "trend_words(X)[:30]"
   ],
   "metadata": {
    "collapsed": false,
    "pycharm": {
     "name": "#%%\n"
    }
   }
  },
  {
   "cell_type": "markdown",
   "source": [
    "Видно, что это просто самые частые слова, которые используются в речи. Заметим, что очень много дается ссылок ('https' и 'stackoverflow')\n",
    "Можно попробовать собирать статистику не просто для всех слов, а каким-то образом их отбирать, чтобы они были важные и считать число вхождений уже для них. Для этого воспользуемся библиотекой rake_nltk. Кроме поиска важных слов, с помощью этой библиотеки можно искать ключевые фразы. Тоже посчитаем их статистику. Чтобы все работало лучше, необходимо немного чистить сообщения. Для этого воспользуемся RegexpTokenizer."
   ],
   "metadata": {
    "collapsed": false
   }
  },
  {
   "cell_type": "code",
   "execution_count": 175,
   "outputs": [],
   "source": [
    "from rake_nltk import Rake"
   ],
   "metadata": {
    "collapsed": false,
    "pycharm": {
     "name": "#%%\n"
    }
   }
  },
  {
   "cell_type": "code",
   "execution_count": 176,
   "outputs": [],
   "source": [
    "def add_to_dict(someting, d):\n",
    "    if someting:\n",
    "        if isinstance(someting, list):\n",
    "            for word in someting:\n",
    "                if word in d:\n",
    "                    d[word] += 1\n",
    "                else:\n",
    "                    d[word] = 1\n",
    "        else:\n",
    "            if someting in d:\n",
    "                d[someting] += 1\n",
    "            else:\n",
    "                d[someting] = 1\n",
    "\n",
    "\n",
    "def super_trend_words(X, size = 100):\n",
    "    d_phrases = {}\n",
    "    d_words = {}\n",
    "    stop_words = set(stopwords.words('english'))\n",
    "    tokenizer = RegexpTokenizer(r'\\w+')    # оставляет только слова, без знаков припинания\n",
    "    # stemmer = WordNetLemmatizer()    # приводит слова к нормальной форме\n",
    "\n",
    "    for line in X:\n",
    "        s = [w for w in tokenizer.tokenize(line.lower()) if w not in stop_words]\n",
    "        new_line = ' '.join(map(str, s))\n",
    "        rake = Rake()\n",
    "        rake.extract_keywords_from_text(new_line)\n",
    "        key_phrase = rake.get_ranked_phrases()\n",
    "        if key_phrase:\n",
    "            key_phrase = key_phrase[:3]\n",
    "        else:\n",
    "            key_phrase = ''\n",
    "        key_words = list(rake.get_word_degrees().keys())[:3]\n",
    "        add_to_dict(key_words, d_words)\n",
    "        add_to_dict(key_phrase, d_phrases)\n",
    "    word_freq_list = sorted(d_words.items(), key=lambda x: x[1], reverse=True)\n",
    "    phrase_freq_list = sorted(d_phrases.items(), key=lambda x: x[1], reverse=True)\n",
    "    return np.array(word_freq_list[:size]), np.array(phrase_freq_list[:size])\n"
   ],
   "metadata": {
    "collapsed": false,
    "pycharm": {
     "name": "#%%\n"
    }
   }
  },
  {
   "cell_type": "code",
   "execution_count": 177,
   "outputs": [],
   "source": [
    "words, phrases = super_trend_words(X)\n"
   ],
   "metadata": {
    "collapsed": false,
    "pycharm": {
     "name": "#%%\n"
    }
   }
  },
  {
   "cell_type": "markdown",
   "source": [
    "Посмотрим на важные слова. По ссути, это опять же слова, использующиеся в обычной речи."
   ],
   "metadata": {
    "collapsed": false
   }
  },
  {
   "cell_type": "code",
   "execution_count": 178,
   "outputs": [
    {
     "data": {
      "text/plain": "       words  freq\n0     thanks  1436\n1     answer  1093\n2      thank  1070\n3     please   947\n4   question   829\n5        use   822\n6        yes   804\n7       code   750\n8      https   623\n9       need   576\n10     using   565\n11       try   506\n12      want   505\n13     could   500\n14     tried   480\n15     would   472\n16       see   464\n17      also   464\n18     think   458\n19      like   424\n20     error   394\n21      work   387\n22   problem   384\n23     works   362\n24       get   344\n25       add   335\n26        hi   330\n27      know   322\n28      sure   316\n29      much   305",
      "text/html": "<div>\n<style scoped>\n    .dataframe tbody tr th:only-of-type {\n        vertical-align: middle;\n    }\n\n    .dataframe tbody tr th {\n        vertical-align: top;\n    }\n\n    .dataframe thead th {\n        text-align: right;\n    }\n</style>\n<table border=\"1\" class=\"dataframe\">\n  <thead>\n    <tr style=\"text-align: right;\">\n      <th></th>\n      <th>words</th>\n      <th>freq</th>\n    </tr>\n  </thead>\n  <tbody>\n    <tr>\n      <th>0</th>\n      <td>thanks</td>\n      <td>1436</td>\n    </tr>\n    <tr>\n      <th>1</th>\n      <td>answer</td>\n      <td>1093</td>\n    </tr>\n    <tr>\n      <th>2</th>\n      <td>thank</td>\n      <td>1070</td>\n    </tr>\n    <tr>\n      <th>3</th>\n      <td>please</td>\n      <td>947</td>\n    </tr>\n    <tr>\n      <th>4</th>\n      <td>question</td>\n      <td>829</td>\n    </tr>\n    <tr>\n      <th>5</th>\n      <td>use</td>\n      <td>822</td>\n    </tr>\n    <tr>\n      <th>6</th>\n      <td>yes</td>\n      <td>804</td>\n    </tr>\n    <tr>\n      <th>7</th>\n      <td>code</td>\n      <td>750</td>\n    </tr>\n    <tr>\n      <th>8</th>\n      <td>https</td>\n      <td>623</td>\n    </tr>\n    <tr>\n      <th>9</th>\n      <td>need</td>\n      <td>576</td>\n    </tr>\n    <tr>\n      <th>10</th>\n      <td>using</td>\n      <td>565</td>\n    </tr>\n    <tr>\n      <th>11</th>\n      <td>try</td>\n      <td>506</td>\n    </tr>\n    <tr>\n      <th>12</th>\n      <td>want</td>\n      <td>505</td>\n    </tr>\n    <tr>\n      <th>13</th>\n      <td>could</td>\n      <td>500</td>\n    </tr>\n    <tr>\n      <th>14</th>\n      <td>tried</td>\n      <td>480</td>\n    </tr>\n    <tr>\n      <th>15</th>\n      <td>would</td>\n      <td>472</td>\n    </tr>\n    <tr>\n      <th>16</th>\n      <td>see</td>\n      <td>464</td>\n    </tr>\n    <tr>\n      <th>17</th>\n      <td>also</td>\n      <td>464</td>\n    </tr>\n    <tr>\n      <th>18</th>\n      <td>think</td>\n      <td>458</td>\n    </tr>\n    <tr>\n      <th>19</th>\n      <td>like</td>\n      <td>424</td>\n    </tr>\n    <tr>\n      <th>20</th>\n      <td>error</td>\n      <td>394</td>\n    </tr>\n    <tr>\n      <th>21</th>\n      <td>work</td>\n      <td>387</td>\n    </tr>\n    <tr>\n      <th>22</th>\n      <td>problem</td>\n      <td>384</td>\n    </tr>\n    <tr>\n      <th>23</th>\n      <td>works</td>\n      <td>362</td>\n    </tr>\n    <tr>\n      <th>24</th>\n      <td>get</td>\n      <td>344</td>\n    </tr>\n    <tr>\n      <th>25</th>\n      <td>add</td>\n      <td>335</td>\n    </tr>\n    <tr>\n      <th>26</th>\n      <td>hi</td>\n      <td>330</td>\n    </tr>\n    <tr>\n      <th>27</th>\n      <td>know</td>\n      <td>322</td>\n    </tr>\n    <tr>\n      <th>28</th>\n      <td>sure</td>\n      <td>316</td>\n    </tr>\n    <tr>\n      <th>29</th>\n      <td>much</td>\n      <td>305</td>\n    </tr>\n  </tbody>\n</table>\n</div>"
     },
     "execution_count": 178,
     "metadata": {},
     "output_type": "execute_result"
    }
   ],
   "source": [
    "pd.DataFrame(words[:30]).rename(columns={0: 'words', 1: 'freq'})"
   ],
   "metadata": {
    "collapsed": false,
    "pycharm": {
     "name": "#%%\n"
    }
   }
  },
  {
   "cell_type": "markdown",
   "source": [
    "Посмотрим на фразы. Видно, что из того, что удалось обнаружить, мы получили какие-то подсказки для пользователей, оставляющих комментарии :)\n",
    "Еще есть небольшое количество фраз, которые тоже используются в повседневной речи"
   ],
   "metadata": {
    "collapsed": false
   }
  },
  {
   "cell_type": "code",
   "execution_count": 180,
   "outputs": [
    {
     "data": {
      "text/plain": "                                                words freq\n0   please provide enough code others better under...   90\n1   please clarify specific problem provide additi...   80\n2   answer could improved additional supporting in...   76\n3   currently written answer unclear please edit a...   52\n4   please edit question limit specific problem en...   40\n5                                          thank much   18\n6   please trim code make easier find problem foll...   10\n7                                            question   10\n8                                                work    9\n9                                             welcome    7\n10                                       works thanks    7\n11                                        yes correct    6\n12                                             worked    6\n13                                              error    6\n14                                       worked thank    6\n15                                            working    6\n16                                              thank    6\n17                                    accepted answer    6\n18  code may answer question providing additional ...    6\n19                                             thanks    5\n20                                  worked thank much    5\n21                                      find solution    5\n22                                        thanks help    5\n23                                        thanks much    5\n24                                       thanks works    5\n25  currently written answer unclear please edit a...    4\n26                                   updated question    4\n27                                      error getting    4\n28                                     updated answer    4\n29                                                yes    4",
      "text/html": "<div>\n<style scoped>\n    .dataframe tbody tr th:only-of-type {\n        vertical-align: middle;\n    }\n\n    .dataframe tbody tr th {\n        vertical-align: top;\n    }\n\n    .dataframe thead th {\n        text-align: right;\n    }\n</style>\n<table border=\"1\" class=\"dataframe\">\n  <thead>\n    <tr style=\"text-align: right;\">\n      <th></th>\n      <th>words</th>\n      <th>freq</th>\n    </tr>\n  </thead>\n  <tbody>\n    <tr>\n      <th>0</th>\n      <td>please provide enough code others better under...</td>\n      <td>90</td>\n    </tr>\n    <tr>\n      <th>1</th>\n      <td>please clarify specific problem provide additi...</td>\n      <td>80</td>\n    </tr>\n    <tr>\n      <th>2</th>\n      <td>answer could improved additional supporting in...</td>\n      <td>76</td>\n    </tr>\n    <tr>\n      <th>3</th>\n      <td>currently written answer unclear please edit a...</td>\n      <td>52</td>\n    </tr>\n    <tr>\n      <th>4</th>\n      <td>please edit question limit specific problem en...</td>\n      <td>40</td>\n    </tr>\n    <tr>\n      <th>5</th>\n      <td>thank much</td>\n      <td>18</td>\n    </tr>\n    <tr>\n      <th>6</th>\n      <td>please trim code make easier find problem foll...</td>\n      <td>10</td>\n    </tr>\n    <tr>\n      <th>7</th>\n      <td>question</td>\n      <td>10</td>\n    </tr>\n    <tr>\n      <th>8</th>\n      <td>work</td>\n      <td>9</td>\n    </tr>\n    <tr>\n      <th>9</th>\n      <td>welcome</td>\n      <td>7</td>\n    </tr>\n    <tr>\n      <th>10</th>\n      <td>works thanks</td>\n      <td>7</td>\n    </tr>\n    <tr>\n      <th>11</th>\n      <td>yes correct</td>\n      <td>6</td>\n    </tr>\n    <tr>\n      <th>12</th>\n      <td>worked</td>\n      <td>6</td>\n    </tr>\n    <tr>\n      <th>13</th>\n      <td>error</td>\n      <td>6</td>\n    </tr>\n    <tr>\n      <th>14</th>\n      <td>worked thank</td>\n      <td>6</td>\n    </tr>\n    <tr>\n      <th>15</th>\n      <td>working</td>\n      <td>6</td>\n    </tr>\n    <tr>\n      <th>16</th>\n      <td>thank</td>\n      <td>6</td>\n    </tr>\n    <tr>\n      <th>17</th>\n      <td>accepted answer</td>\n      <td>6</td>\n    </tr>\n    <tr>\n      <th>18</th>\n      <td>code may answer question providing additional ...</td>\n      <td>6</td>\n    </tr>\n    <tr>\n      <th>19</th>\n      <td>thanks</td>\n      <td>5</td>\n    </tr>\n    <tr>\n      <th>20</th>\n      <td>worked thank much</td>\n      <td>5</td>\n    </tr>\n    <tr>\n      <th>21</th>\n      <td>find solution</td>\n      <td>5</td>\n    </tr>\n    <tr>\n      <th>22</th>\n      <td>thanks help</td>\n      <td>5</td>\n    </tr>\n    <tr>\n      <th>23</th>\n      <td>thanks much</td>\n      <td>5</td>\n    </tr>\n    <tr>\n      <th>24</th>\n      <td>thanks works</td>\n      <td>5</td>\n    </tr>\n    <tr>\n      <th>25</th>\n      <td>currently written answer unclear please edit a...</td>\n      <td>4</td>\n    </tr>\n    <tr>\n      <th>26</th>\n      <td>updated question</td>\n      <td>4</td>\n    </tr>\n    <tr>\n      <th>27</th>\n      <td>error getting</td>\n      <td>4</td>\n    </tr>\n    <tr>\n      <th>28</th>\n      <td>updated answer</td>\n      <td>4</td>\n    </tr>\n    <tr>\n      <th>29</th>\n      <td>yes</td>\n      <td>4</td>\n    </tr>\n  </tbody>\n</table>\n</div>"
     },
     "execution_count": 180,
     "metadata": {},
     "output_type": "execute_result"
    }
   ],
   "source": [
    "pd.DataFrame(phrases[:30]).rename(columns={0: 'words', 1: 'freq'})"
   ],
   "metadata": {
    "collapsed": false,
    "pycharm": {
     "name": "#%%\n"
    }
   }
  },
  {
   "cell_type": "code",
   "execution_count": 181,
   "outputs": [
    {
     "data": {
      "text/plain": "                                                words freq\n0   please provide enough code others better under...   90\n1   please clarify specific problem provide additi...   80\n2   answer could improved additional supporting in...   76\n3   currently written answer unclear please edit a...   52\n4   please edit question limit specific problem en...   40\n5                                          thank much   18\n6   please trim code make easier find problem foll...   10\n7                                            question   10\n8                                                work    9\n9                                             welcome    7\n10                                       works thanks    7\n11                                        yes correct    6\n12                                             worked    6\n13                                              error    6\n14                                       worked thank    6\n15                                            working    6\n16                                              thank    6\n17                                    accepted answer    6\n18  code may answer question providing additional ...    6\n19                                             thanks    5\n20                                  worked thank much    5\n21                                      find solution    5\n22                                        thanks help    5\n23                                        thanks much    5\n24                                       thanks works    5\n25  currently written answer unclear please edit a...    4\n26                                   updated question    4\n27                                      error getting    4\n28                                     updated answer    4\n29                                                yes    4",
      "text/html": "<div>\n<style scoped>\n    .dataframe tbody tr th:only-of-type {\n        vertical-align: middle;\n    }\n\n    .dataframe tbody tr th {\n        vertical-align: top;\n    }\n\n    .dataframe thead th {\n        text-align: right;\n    }\n</style>\n<table border=\"1\" class=\"dataframe\">\n  <thead>\n    <tr style=\"text-align: right;\">\n      <th></th>\n      <th>words</th>\n      <th>freq</th>\n    </tr>\n  </thead>\n  <tbody>\n    <tr>\n      <th>0</th>\n      <td>please provide enough code others better under...</td>\n      <td>90</td>\n    </tr>\n    <tr>\n      <th>1</th>\n      <td>please clarify specific problem provide additi...</td>\n      <td>80</td>\n    </tr>\n    <tr>\n      <th>2</th>\n      <td>answer could improved additional supporting in...</td>\n      <td>76</td>\n    </tr>\n    <tr>\n      <th>3</th>\n      <td>currently written answer unclear please edit a...</td>\n      <td>52</td>\n    </tr>\n    <tr>\n      <th>4</th>\n      <td>please edit question limit specific problem en...</td>\n      <td>40</td>\n    </tr>\n    <tr>\n      <th>5</th>\n      <td>thank much</td>\n      <td>18</td>\n    </tr>\n    <tr>\n      <th>6</th>\n      <td>please trim code make easier find problem foll...</td>\n      <td>10</td>\n    </tr>\n    <tr>\n      <th>7</th>\n      <td>question</td>\n      <td>10</td>\n    </tr>\n    <tr>\n      <th>8</th>\n      <td>work</td>\n      <td>9</td>\n    </tr>\n    <tr>\n      <th>9</th>\n      <td>welcome</td>\n      <td>7</td>\n    </tr>\n    <tr>\n      <th>10</th>\n      <td>works thanks</td>\n      <td>7</td>\n    </tr>\n    <tr>\n      <th>11</th>\n      <td>yes correct</td>\n      <td>6</td>\n    </tr>\n    <tr>\n      <th>12</th>\n      <td>worked</td>\n      <td>6</td>\n    </tr>\n    <tr>\n      <th>13</th>\n      <td>error</td>\n      <td>6</td>\n    </tr>\n    <tr>\n      <th>14</th>\n      <td>worked thank</td>\n      <td>6</td>\n    </tr>\n    <tr>\n      <th>15</th>\n      <td>working</td>\n      <td>6</td>\n    </tr>\n    <tr>\n      <th>16</th>\n      <td>thank</td>\n      <td>6</td>\n    </tr>\n    <tr>\n      <th>17</th>\n      <td>accepted answer</td>\n      <td>6</td>\n    </tr>\n    <tr>\n      <th>18</th>\n      <td>code may answer question providing additional ...</td>\n      <td>6</td>\n    </tr>\n    <tr>\n      <th>19</th>\n      <td>thanks</td>\n      <td>5</td>\n    </tr>\n    <tr>\n      <th>20</th>\n      <td>worked thank much</td>\n      <td>5</td>\n    </tr>\n    <tr>\n      <th>21</th>\n      <td>find solution</td>\n      <td>5</td>\n    </tr>\n    <tr>\n      <th>22</th>\n      <td>thanks help</td>\n      <td>5</td>\n    </tr>\n    <tr>\n      <th>23</th>\n      <td>thanks much</td>\n      <td>5</td>\n    </tr>\n    <tr>\n      <th>24</th>\n      <td>thanks works</td>\n      <td>5</td>\n    </tr>\n    <tr>\n      <th>25</th>\n      <td>currently written answer unclear please edit a...</td>\n      <td>4</td>\n    </tr>\n    <tr>\n      <th>26</th>\n      <td>updated question</td>\n      <td>4</td>\n    </tr>\n    <tr>\n      <th>27</th>\n      <td>error getting</td>\n      <td>4</td>\n    </tr>\n    <tr>\n      <th>28</th>\n      <td>updated answer</td>\n      <td>4</td>\n    </tr>\n    <tr>\n      <th>29</th>\n      <td>yes</td>\n      <td>4</td>\n    </tr>\n  </tbody>\n</table>\n</div>"
     },
     "execution_count": 181,
     "metadata": {},
     "output_type": "execute_result"
    }
   ],
   "source": [
    "pd.DataFrame(phrases[:30]).rename(columns={0: 'words', 1: 'freq'})"
   ],
   "metadata": {
    "collapsed": false,
    "pycharm": {
     "name": "#%%\n"
    }
   }
  },
  {
   "cell_type": "code",
   "execution_count": 182,
   "outputs": [
    {
     "data": {
      "text/plain": "array([['please provide enough code others better understand reproduce problem',\n        '90'],\n       ['please clarify specific problem provide additional details highlight exactly need currently written hard tell exactly asking',\n        '80'],\n       ['answer could improved additional supporting information please edit add details citations documentation others confirm answer correct find information write good answers help center help answer',\n        '76'],\n       ['currently written answer unclear please edit add additional details help others understand addresses question asked find information write good answers help center help answer',\n        '52'],\n       ['please edit question limit specific problem enough detail identify adequate answer',\n        '40'],\n       ['thank much', '18'],\n       ['please trim code make easier find problem follow guidelines create minimal reproducible example https stackoverflow com help minimal reproducible example',\n        '10'],\n       ['question', '10'],\n       ['work', '9'],\n       ['welcome', '7'],\n       ['works thanks', '7'],\n       ['yes correct', '6'],\n       ['worked', '6'],\n       ['error', '6'],\n       ['worked thank', '6'],\n       ['working', '6'],\n       ['thank', '6'],\n       ['accepted answer', '6'],\n       ['code may answer question providing additional context regarding solves problem would improve answer long term value',\n        '6'],\n       ['thanks', '5'],\n       ['worked thank much', '5'],\n       ['find solution', '5'],\n       ['thanks help', '5'],\n       ['thanks much', '5'],\n       ['thanks works', '5'],\n       ['currently written answer unclear please edit add additional details help others understand addresses question asked find information write good answers help center help ask',\n        '4'],\n       ['updated question', '4'],\n       ['error getting', '4'],\n       ['updated answer', '4'],\n       ['yes', '4']], dtype='<U277')"
     },
     "execution_count": 182,
     "metadata": {},
     "output_type": "execute_result"
    }
   ],
   "source": [
    "phrases[:30]"
   ],
   "metadata": {
    "collapsed": false,
    "pycharm": {
     "name": "#%%\n"
    }
   }
  },
  {
   "cell_type": "markdown",
   "source": [
    "В результате, я смог найти множество слов, которые люди говорят в повседневном обсуждении вопросов на stack overflow"
   ],
   "metadata": {
    "collapsed": false
   }
  },
  {
   "cell_type": "code",
   "execution_count": null,
   "outputs": [],
   "source": [],
   "metadata": {
    "collapsed": false,
    "pycharm": {
     "name": "#%%\n"
    }
   }
  }
 ],
 "metadata": {
  "kernelspec": {
   "display_name": "Python 3",
   "language": "python",
   "name": "python3"
  },
  "language_info": {
   "codemirror_mode": {
    "name": "ipython",
    "version": 2
   },
   "file_extension": ".py",
   "mimetype": "text/x-python",
   "name": "python",
   "nbconvert_exporter": "python",
   "pygments_lexer": "ipython2",
   "version": "2.7.6"
  }
 },
 "nbformat": 4,
 "nbformat_minor": 0
}