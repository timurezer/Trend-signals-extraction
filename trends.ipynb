{
 "cells": [
  {
   "cell_type": "code",
   "execution_count": 111,
   "metadata": {
    "collapsed": true
   },
   "outputs": [],
   "source": [
    "import numpy as np\n",
    "import pandas as pd\n",
    "from nltk.corpus import stopwords\n",
    "from nltk.tokenize import RegexpTokenizer\n",
    "from nltk.stem import WordNetLemmatizer"
   ]
  },
  {
   "cell_type": "markdown",
   "source": [
    "Запрос в базу данных:\n",
    "\n",
    "select CreationDate, Text from Comments tablesample(1 percent)\n",
    "where CreationDate >= DATEADD(month, -6, GETDATE())\n",
    "\n",
    "\n",
    "\n"
   ],
   "metadata": {
    "collapsed": false
   }
  },
  {
   "cell_type": "code",
   "execution_count": 122,
   "outputs": [
    {
     "data": {
      "text/plain": "              CreationDate                                               Text\n0      2021-09-16 15:32:22  Welcome to Stack Overflow! In order to get the...\n1      2021-09-16 15:32:23  Ok so how can I change the format? The dates a...\n2      2021-09-16 15:32:28               Try now mate, pls , i updated answer\n3      2021-09-16 15:32:38  I'm guessing that the HTMLness bit is set if t...\n4      2021-09-16 15:32:42                 Thanks for the clarification, John\n...                    ...                                                ...\n26523  2022-03-13 03:23:46  In your repo, this `func compositionLayerInstr...\n26524  2022-03-13 03:23:50  @QueenoftheNorth The two parameters are indica...\n26525  2022-03-13 03:24:13  The code is buggy. I tried `build_path(\"http:/...\n26526  2022-03-13 03:24:18  What about start thinking with the following t...\n26527  2022-03-13 03:24:30  please restrict yourself to one question at a ...\n\n[26528 rows x 2 columns]",
      "text/html": "<div>\n<style scoped>\n    .dataframe tbody tr th:only-of-type {\n        vertical-align: middle;\n    }\n\n    .dataframe tbody tr th {\n        vertical-align: top;\n    }\n\n    .dataframe thead th {\n        text-align: right;\n    }\n</style>\n<table border=\"1\" class=\"dataframe\">\n  <thead>\n    <tr style=\"text-align: right;\">\n      <th></th>\n      <th>CreationDate</th>\n      <th>Text</th>\n    </tr>\n  </thead>\n  <tbody>\n    <tr>\n      <th>0</th>\n      <td>2021-09-16 15:32:22</td>\n      <td>Welcome to Stack Overflow! In order to get the...</td>\n    </tr>\n    <tr>\n      <th>1</th>\n      <td>2021-09-16 15:32:23</td>\n      <td>Ok so how can I change the format? The dates a...</td>\n    </tr>\n    <tr>\n      <th>2</th>\n      <td>2021-09-16 15:32:28</td>\n      <td>Try now mate, pls , i updated answer</td>\n    </tr>\n    <tr>\n      <th>3</th>\n      <td>2021-09-16 15:32:38</td>\n      <td>I'm guessing that the HTMLness bit is set if t...</td>\n    </tr>\n    <tr>\n      <th>4</th>\n      <td>2021-09-16 15:32:42</td>\n      <td>Thanks for the clarification, John</td>\n    </tr>\n    <tr>\n      <th>...</th>\n      <td>...</td>\n      <td>...</td>\n    </tr>\n    <tr>\n      <th>26523</th>\n      <td>2022-03-13 03:23:46</td>\n      <td>In your repo, this `func compositionLayerInstr...</td>\n    </tr>\n    <tr>\n      <th>26524</th>\n      <td>2022-03-13 03:23:50</td>\n      <td>@QueenoftheNorth The two parameters are indica...</td>\n    </tr>\n    <tr>\n      <th>26525</th>\n      <td>2022-03-13 03:24:13</td>\n      <td>The code is buggy. I tried `build_path(\"http:/...</td>\n    </tr>\n    <tr>\n      <th>26526</th>\n      <td>2022-03-13 03:24:18</td>\n      <td>What about start thinking with the following t...</td>\n    </tr>\n    <tr>\n      <th>26527</th>\n      <td>2022-03-13 03:24:30</td>\n      <td>please restrict yourself to one question at a ...</td>\n    </tr>\n  </tbody>\n</table>\n<p>26528 rows × 2 columns</p>\n</div>"
     },
     "execution_count": 122,
     "metadata": {},
     "output_type": "execute_result"
    }
   ],
   "source": [
    "data = pd.read_csv('QueryResults.csv')\n",
    "data"
   ],
   "metadata": {
    "collapsed": false,
    "pycharm": {
     "name": "#%%\n"
    }
   }
  },
  {
   "cell_type": "code",
   "execution_count": 113,
   "outputs": [
    {
     "data": {
      "text/plain": "array(['Welcome to Stack Overflow! In order to get the best responses to your question please take a tour of the [Help Center](https://stackoverflow.com/help). Specifically the [How to Ask a Good Question](https://stackoverflow.com/help/how-to-ask) and [How to Create A Minimal Reproducible Example](https://stackoverflow.com/help/minimal-reproducible-example) articles will help us understand the problem and give a good answer.',\n       'Ok so how can I change the format? The dates are saved in the database as mm-dd-yyyy. How can I change them before giving the values to the page?',\n       'Try now mate, pls , i updated answer', ...,\n       'The code is buggy. I tried `build_path(\"http://\", \"/foo/bar\", \"index.html\")` and it returned `\\'http:/foo/bar/index.html\\'`.',\n       'What about start thinking with the following two lines: `x = [1,2,3,4]` `ratio=[a/b for a,b in zip(x[1:], x)]`',\n       'please restrict yourself to one question at a time (unless the questions are closely related) - your two questions are about completely different things'],\n      dtype=object)"
     },
     "execution_count": 113,
     "metadata": {},
     "output_type": "execute_result"
    }
   ],
   "source": [
    "X = data.to_numpy()[:, 1]\n",
    "X"
   ],
   "metadata": {
    "collapsed": false,
    "pycharm": {
     "name": "#%%\n"
    }
   }
  },
  {
   "cell_type": "code",
   "execution_count": 114,
   "outputs": [],
   "source": [
    "def remaker(sentence):\n",
    "    simb = [',',\"'\", '!', '.', ',', '?', '*']\n",
    "    for x in simb:\n",
    "        sentence = sentence.replace(x, ' ')\n",
    "    return sentence.lower()\n",
    "\n",
    "\n",
    "def trend_words(X, d_size = 100):\n",
    "    d = {}\n",
    "    stop_words = set(stopwords.words('english'))\n",
    "    tokenizer = RegexpTokenizer(r'\\w+')    # оставляет только слова, без знаков припинания\n",
    "    #stemmer = WordNetLemmatizer()    # приводит слова к нормальной форме\n",
    "    for line in X:\n",
    "        s = [w for w in tokenizer.tokenize(line.lower()) if w not in stop_words]\n",
    "        for word in s:\n",
    "            if word in d:\n",
    "                d[word] += 1\n",
    "            else:\n",
    "                d[word] = 1\n",
    "    word_freq_list = sorted(d.items(), key=lambda x: x[1], reverse=True)\n",
    "    return np.array(word_freq_list[:d_size])\n"
   ],
   "metadata": {
    "collapsed": false,
    "pycharm": {
     "name": "#%%\n"
    }
   }
  },
  {
   "cell_type": "code",
   "execution_count": 115,
   "outputs": [
    {
     "data": {
      "text/plain": "array([['https', '3820'],\n       ['code', '3438'],\n       ['use', '3116'],\n       ['com', '3004'],\n       ['answer', '2753'],\n       ['question', '2559'],\n       ['using', '2230'],\n       ['need', '2165'],\n       ['like', '2106'],\n       ['thanks', '2095'],\n       ['would', '2077'],\n       ['1', '1879'],\n       ['please', '1836'],\n       ['data', '1764'],\n       ['get', '1763'],\n       ['one', '1742'],\n       ['want', '1723'],\n       ['also', '1723'],\n       ['problem', '1696'],\n       ['error', '1684'],\n       ['see', '1628'],\n       ['help', '1602'],\n       ['work', '1552'],\n       ['file', '1537'],\n       ['thank', '1501'],\n       ['stackoverflow', '1492'],\n       ['0', '1487'],\n       ['could', '1434'],\n       ['try', '1285'],\n       ['add', '1283'],\n       ['way', '1235'],\n       ['2', '1233'],\n       ['function', '1215'],\n       ['example', '1209'],\n       ['know', '1128'],\n       ['value', '1114'],\n       ['questions', '1103'],\n       ['think', '1087'],\n       ['first', '1079'],\n       ['time', '1021'],\n       ['still', '1015'],\n       ['works', '1003'],\n       ['make', '1001'],\n       ['yes', '999'],\n       ['new', '988'],\n       ['tried', '953'],\n       ['issue', '915'],\n       ['check', '907'],\n       ['case', '897'],\n       ['solution', '887'],\n       ['instead', '886'],\n       ['find', '859'],\n       ['string', '847'],\n       ['something', '816'],\n       ['3', '814'],\n       ['type', '804'],\n       ['list', '798'],\n       ['c', '797'],\n       ['sure', '794'],\n       ['array', '791'],\n       ['run', '787'],\n       ['post', '768'],\n       ['much', '765'],\n       ['set', '764'],\n       ['docs', '763'],\n       ['right', '742'],\n       ['name', '730'],\n       ['class', '721'],\n       ['different', '716'],\n       ['used', '715'],\n       ['good', '713'],\n       ['understand', '705'],\n       ['user', '699'],\n       ['html', '693'],\n       ['version', '681'],\n       ['create', '672'],\n       ['line', '669'],\n       ['may', '668'],\n       ['well', '662'],\n       ['read', '659'],\n       ['object', '658'],\n       ['change', '657'],\n       ['working', '657'],\n       ['seems', '655'],\n       ['without', '644'],\n       ['really', '637'],\n       ['org', '633'],\n       ['look', '631'],\n       ['server', '630'],\n       ['values', '624'],\n       ['method', '616'],\n       ['even', '614'],\n       ['api', '605'],\n       ['text', '604'],\n       ['python', '604'],\n       ['provide', '602'],\n       ['trying', '600'],\n       ['edit', '595'],\n       ['exactly', '590'],\n       ['might', '588']], dtype='<U21')"
     },
     "execution_count": 115,
     "metadata": {},
     "output_type": "execute_result"
    }
   ],
   "source": [
    "trend_words(X)"
   ],
   "metadata": {
    "collapsed": false,
    "pycharm": {
     "name": "#%%\n"
    }
   }
  },
  {
   "cell_type": "code",
   "execution_count": 116,
   "outputs": [],
   "source": [
    "from rake_nltk import Rake"
   ],
   "metadata": {
    "collapsed": false,
    "pycharm": {
     "name": "#%%\n"
    }
   }
  },
  {
   "cell_type": "code",
   "execution_count": 117,
   "outputs": [],
   "source": [
    "def add_to_dict(someting, d):\n",
    "    if someting:\n",
    "        if isinstance(someting, list):\n",
    "            for word in someting:\n",
    "                if word in d:\n",
    "                    d[word] += 1\n",
    "                else:\n",
    "                    d[word] = 1\n",
    "        else:\n",
    "            if someting in d:\n",
    "                d[someting] += 1\n",
    "            else:\n",
    "                d[someting] = 1\n",
    "\n",
    "\n",
    "def super_trend_words(X, size = 100):\n",
    "    d_phrases = {}\n",
    "    d_words = {}\n",
    "    stop_words = set(stopwords.words('english'))\n",
    "    tokenizer = RegexpTokenizer(r'\\w+')    # оставляет только слова, без знаков припинания\n",
    "    # stemmer = WordNetLemmatizer()    # приводит слова к нормальной форме\n",
    "\n",
    "    for line in X:\n",
    "        s = [w for w in tokenizer.tokenize(line.lower()) if w not in stop_words]\n",
    "        new_line = ' '.join(map(str, s))\n",
    "        rake = Rake()\n",
    "        rake.extract_keywords_from_text(new_line)\n",
    "        key_phrase = rake.get_ranked_phrases()\n",
    "        if key_phrase:\n",
    "            key_phrase = key_phrase[:3]\n",
    "        else:\n",
    "            key_phrase = ''\n",
    "        key_words = list(rake.get_word_degrees().keys())[:3]\n",
    "        add_to_dict(key_words, d_words)\n",
    "        add_to_dict(key_phrase, d_phrases)\n",
    "    word_freq_list = sorted(d_words.items(), key=lambda x: x[1], reverse=True)\n",
    "    phrase_freq_list = sorted(d_phrases.items(), key=lambda x: x[1], reverse=True)\n",
    "    return np.array(word_freq_list[:size]), np.array(phrase_freq_list[:size])\n"
   ],
   "metadata": {
    "collapsed": false,
    "pycharm": {
     "name": "#%%\n"
    }
   }
  },
  {
   "cell_type": "code",
   "execution_count": 118,
   "outputs": [],
   "source": [
    "words, phrases = super_trend_words(X)\n"
   ],
   "metadata": {
    "collapsed": false,
    "pycharm": {
     "name": "#%%\n"
    }
   }
  },
  {
   "cell_type": "code",
   "execution_count": 119,
   "outputs": [
    {
     "data": {
      "text/plain": "array([['thanks', '1436'],\n       ['answer', '1093'],\n       ['thank', '1070'],\n       ['please', '947'],\n       ['question', '829'],\n       ['use', '822'],\n       ['yes', '804'],\n       ['code', '750'],\n       ['https', '623'],\n       ['need', '576'],\n       ['using', '565'],\n       ['try', '506'],\n       ['want', '505'],\n       ['could', '500'],\n       ['tried', '480'],\n       ['would', '472'],\n       ['see', '464'],\n       ['also', '464'],\n       ['think', '458'],\n       ['like', '424'],\n       ['error', '394'],\n       ['work', '387'],\n       ['problem', '384'],\n       ['works', '362'],\n       ['get', '344'],\n       ['add', '335'],\n       ['hi', '330'],\n       ['know', '322'],\n       ['sure', '316'],\n       ['much', '305'],\n       ['sorry', '275'],\n       ['check', '275'],\n       ['one', '275'],\n       ['solution', '270'],\n       ['added', '261'],\n       ['provide', '257'],\n       ['mean', '257'],\n       ['help', '249'],\n       ['worked', '246'],\n       ['way', '246'],\n       ['right', '244'],\n       ['updated', '232'],\n       ['data', '230'],\n       ['ok', '229'],\n       ['issue', '229'],\n       ['well', '224'],\n       ['first', '222'],\n       ['seems', '221'],\n       ['still', '213'],\n       ['post', '207'],\n       ['really', '205'],\n       ['make', '191'],\n       ['working', '191'],\n       ['good', '190'],\n       ['look', '187'],\n       ['exactly', '187'],\n       ['1', '182'],\n       ['actually', '182'],\n       ['example', '179'],\n       ['understand', '177'],\n       ['got', '172'],\n       ['function', '170'],\n       ['stackoverflow', '167'],\n       ['may', '165'],\n       ['show', '164'],\n       ['yeah', '163'],\n       ['trying', '160'],\n       ['looks', '160'],\n       ['maybe', '159'],\n       ['already', '159'],\n       ['create', '158'],\n       ['file', '157'],\n       ['update', '156'],\n       ['edit', '155'],\n       ['case', '151'],\n       ['link', '151'],\n       ['find', '151'],\n       ['used', '149'],\n       ['welcome', '147'],\n       ['version', '144'],\n       ['new', '142'],\n       ['edited', '141'],\n       ['lot', '141'],\n       ['read', '141'],\n       ['run', '139'],\n       ['looking', '138'],\n       ['note', '136'],\n       ['specific', '136'],\n       ['let', '130'],\n       ['great', '130'],\n       ['change', '128'],\n       ['getting', '128'],\n       ['something', '127'],\n       ['found', '123'],\n       ['set', '122'],\n       ['enough', '121'],\n       ['oh', '120'],\n       ['might', '117'],\n       ['comment', '117'],\n       ['correct', '115']], dtype='<U21')"
     },
     "execution_count": 119,
     "metadata": {},
     "output_type": "execute_result"
    }
   ],
   "source": [
    "words"
   ],
   "metadata": {
    "collapsed": false,
    "pycharm": {
     "name": "#%%\n"
    }
   }
  },
  {
   "cell_type": "code",
   "execution_count": 120,
   "outputs": [
    {
     "data": {
      "text/plain": "array([['please provide enough code others better understand reproduce problem',\n        '90'],\n       ['please clarify specific problem provide additional details highlight exactly need currently written hard tell exactly asking',\n        '80'],\n       ['answer could improved additional supporting information please edit add details citations documentation others confirm answer correct find information write good answers help center help answer',\n        '76'],\n       ['currently written answer unclear please edit add additional details help others understand addresses question asked find information write good answers help center help answer',\n        '52'],\n       ['please edit question limit specific problem enough detail identify adequate answer',\n        '40'],\n       ['thank much', '18'],\n       ['please trim code make easier find problem follow guidelines create minimal reproducible example https stackoverflow com help minimal reproducible example',\n        '10'],\n       ['question', '10'],\n       ['work', '9'],\n       ['welcome', '7'],\n       ['works thanks', '7'],\n       ['yes correct', '6'],\n       ['worked', '6'],\n       ['error', '6'],\n       ['worked thank', '6'],\n       ['working', '6'],\n       ['thank', '6'],\n       ['accepted answer', '6'],\n       ['code may answer question providing additional context regarding solves problem would improve answer long term value',\n        '6'],\n       ['thanks', '5'],\n       ['worked thank much', '5'],\n       ['find solution', '5'],\n       ['thanks help', '5'],\n       ['thanks much', '5'],\n       ['thanks works', '5'],\n       ['currently written answer unclear please edit add additional details help others understand addresses question asked find information write good answers help center help ask',\n        '4'],\n       ['updated question', '4'],\n       ['error getting', '4'],\n       ['updated answer', '4'],\n       ['yes', '4'],\n       ['anyone help', '4'],\n       ['mean', '4'],\n       ['worked thanks', '4'],\n       ['answer could improved adding information code helps op', '4'],\n       ['wrong argparse import namespace ns namespace mydict', '4'],\n       ['greetings please share reproducible dataset shown https youtu 3eid3p1oisg',\n        '4'],\n       ['version excel', '3'],\n       ['link dead', '3'],\n       ['thank help', '3'],\n       ['perfect thanks', '3'],\n       ['please provide mre', '3'],\n       ['check answer https stackoverflow com 69730208 9942927 worked',\n        '3'],\n       ['yes thank', '3'],\n       ['still working', '3'],\n       ['thanks try', '3'],\n       ['unfortunately work', '3'],\n       ['per question guide please show tried tell us found site elsewhere meet needs',\n        '3'],\n       ['great thank', '3'],\n       ['got thanks', '3'],\n       ['thank worked perfectly', '3'],\n       ['perfect thank', '3'],\n       ['remember stack overflow intended solve immediate problem also help future readers find solutions similar problems requires understanding underlying code especially important members community beginners familiar syntax given edit answer include explanation believe best approach',\n        '3'],\n       ['check tutorial aligning div horizontally vertically using css https frontendguruji com blog center div horizontally vertically using css',\n        '3'],\n       ['thanks solution', '3'],\n       ['always put full error message starting word traceback question comments text screenshot link external portal useful information',\n        '3'],\n       ['answer could improved additional supporting information please edit add details citations documentation others confirm answer correct find information write good answers help center help ask',\n        '2'],\n       ['thanks response', '2'],\n       ['please upload images code errors asking question meta stackoverflow com q 285551',\n        '2'],\n       ['thank worked', '2'],\n       ['find answer', '2'],\n       ['add', '2'],\n       ['hi welcome great look ask help ask try produce mcve help mcve',\n        '2'],\n       ['show code', '2'],\n       ['really', '2'],\n       ['hi ty answer tried example 1 worked need scroll page little get working small screen 15 1 nyckeltal must visible screen click visible inspect visible screen way fix',\n        '2'],\n       ['thanks help actually variable getting list newline messed', '2'],\n       ['would easier help create small reproducible example along expected output read give reproducible example http stackoverflow com questions 5963269',\n        '2'],\n       ['avoid identity reliable always use scope_identity', '2'],\n       ['worked perfectly thank much', '2'],\n       ['got solution', '2'],\n       ['please check screenshot webview_flutter 2 0 13 still exists',\n        '2'],\n       ['found solution', '2'],\n       ['glad helped', '2'],\n       ['thank cdp1802 clerar grouped', '2'],\n       ['on_message line code code tho', '2'],\n       ['please see edit', '2'],\n       ['need know listboxs marked', '2'],\n       ['answer question nullpointerexception fix https stackoverflow com questions 218384 nullpointerexception fix',\n        '2'],\n       ['works fine thank', '2'],\n       ['please add explanation answer others learn', '2'],\n       ['saved life thanks', '2'],\n       ['https stackoverflow com 58504433 5219642 detail check', '2'],\n       ['nb cron format used kubeflow includes seconds first entry', '2'],\n       ['still older device lying around still work', '2'],\n       ['array like let array data option1 1 option1 2 option1 3 data option2 4 option2 5 option2 6 output last items option1 3 option2 6',\n        '2'],\n       ['updated post', '2'],\n       ['thank much helpful', '2'],\n       ['updated code', '2'],\n       ['worked perfectly thank', '2'],\n       ['thank much works fine', '2'],\n       ['issue code', '2'],\n       ['worked perfectly', '2'],\n       ['asking', '2'],\n       ['exactly', '2'],\n       ['thanks work ios', '2'],\n       ['thanks lot solved onsubmit function error validate function error still exist',\n        '2'],\n       ['thank much helped', '2'],\n       ['thanks exactly looking', '2'],\n       ['yes worked thank', '2'],\n       ['nope', '2']], dtype='<U277')"
     },
     "execution_count": 120,
     "metadata": {},
     "output_type": "execute_result"
    }
   ],
   "source": [
    "phrases"
   ],
   "metadata": {
    "collapsed": false,
    "pycharm": {
     "name": "#%%\n"
    }
   }
  },
  {
   "cell_type": "code",
   "execution_count": 121,
   "outputs": [
    {
     "name": "stdout",
     "output_type": "stream",
     "text": [
      "['please provide enough code others better understand reproduce problem'\n",
      " 'please clarify specific problem provide additional details highlight exactly need currently written hard tell exactly asking'\n",
      " 'answer could improved additional supporting information please edit add details citations documentation others confirm answer correct find information write good answers help center help answer'\n",
      " 'currently written answer unclear please edit add additional details help others understand addresses question asked find information write good answers help center help answer'\n",
      " 'please edit question limit specific problem enough detail identify adequate answer']\n"
     ]
    }
   ],
   "source": [
    "print(phrases[:5, 0])\n"
   ],
   "metadata": {
    "collapsed": false,
    "pycharm": {
     "name": "#%%\n"
    }
   }
  },
  {
   "cell_type": "code",
   "execution_count": null,
   "outputs": [],
   "source": [],
   "metadata": {
    "collapsed": false,
    "pycharm": {
     "name": "#%%\n"
    }
   }
  }
 ],
 "metadata": {
  "kernelspec": {
   "display_name": "Python 3",
   "language": "python",
   "name": "python3"
  },
  "language_info": {
   "codemirror_mode": {
    "name": "ipython",
    "version": 2
   },
   "file_extension": ".py",
   "mimetype": "text/x-python",
   "name": "python",
   "nbconvert_exporter": "python",
   "pygments_lexer": "ipython2",
   "version": "2.7.6"
  }
 },
 "nbformat": 4,
 "nbformat_minor": 0
}